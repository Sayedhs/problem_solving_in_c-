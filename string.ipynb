{
  "nbformat": 4,
  "nbformat_minor": 0,
  "metadata": {
    "colab": {
      "provenance": [],
      "authorship_tag": "ABX9TyOYehZBp+QeLQitLaBK9jtn",
      "include_colab_link": true
    },
    "kernelspec": {
      "name": "python3",
      "display_name": "Python 3"
    },
    "language_info": {
      "name": "python"
    }
  },
  "cells": [
    {
      "cell_type": "markdown",
      "metadata": {
        "id": "view-in-github",
        "colab_type": "text"
      },
      "source": [
        "<a href=\"https://colab.research.google.com/github/Sayedhs/problem_solving_in_c-/blob/main/string.ipynb\" target=\"_parent\"><img src=\"https://colab.research.google.com/assets/colab-badge.svg\" alt=\"Open In Colab\"/></a>"
      ]
    },
    {
      "cell_type": "code",
      "execution_count": 23,
      "metadata": {
        "colab": {
          "base_uri": "https://localhost:8080/"
        },
        "id": "qsZZfTdKg3Bk",
        "outputId": "c522091c-cbf4-446b-e906-5a66a91bc9a9"
      },
      "outputs": [
        {
          "output_type": "stream",
          "name": "stdout",
          "text": [
            "sayed\n",
            "hassan \n",
            "sayed \\n hassan\n",
            "the s is equle 5 and g is equle 80 \n",
            "e\n",
            "sayed\n",
            "n\n",
            "ayed\n",
            "\n"
          ]
        }
      ],
      "source": [
        "x = 'sayed''\\n' 'hassan '\n",
        "v = r'sayed \\n hassan' #raw string اطبع الجمله زي ما هي\n",
        "print (x)\n",
        "print (v)\n",
        "s = '5'\n",
        "g = '80'\n",
        "print (f'the s is equle {s} and g is equle {g} ')  # print(f\"{val}for{val} is a portal for {val}.\")\n",
        "print (x[3]) # index prefar to numper of arr [0,1,2,3,4,5................]\n",
        "print (x[:5])\n",
        "print (x[-2])\n",
        "print (x[1:6])"
      ]
    },
    {
      "cell_type": "code",
      "source": [],
      "metadata": {
        "id": "fuKxobyvg3v7"
      },
      "execution_count": null,
      "outputs": []
    }
  ]
}