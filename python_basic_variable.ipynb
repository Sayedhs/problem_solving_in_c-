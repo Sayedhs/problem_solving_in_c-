{
  "nbformat": 4,
  "nbformat_minor": 0,
  "metadata": {
    "colab": {
      "provenance": [],
      "authorship_tag": "ABX9TyO4aMFYGDC/mmN9WKR9ePFC",
      "include_colab_link": true
    },
    "kernelspec": {
      "name": "python3",
      "display_name": "Python 3"
    },
    "language_info": {
      "name": "python"
    }
  },
  "cells": [
    {
      "cell_type": "markdown",
      "metadata": {
        "id": "view-in-github",
        "colab_type": "text"
      },
      "source": [
        "<a href=\"https://colab.research.google.com/github/Sayedhs/problem_solving_in_c-/blob/main/python_basic_variable.ipynb\" target=\"_parent\"><img src=\"https://colab.research.google.com/assets/colab-badge.svg\" alt=\"Open In Colab\"/></a>"
      ]
    },
    {
      "cell_type": "code",
      "execution_count": 1,
      "metadata": {
        "colab": {
          "base_uri": "https://localhost:8080/"
        },
        "id": "_5YscoskeRHl",
        "outputId": "38734a3a-041e-436d-8a17-439c6afec95d"
      },
      "outputs": [
        {
          "output_type": "stream",
          "name": "stdout",
          "text": [
            "hello\n"
          ]
        }
      ],
      "source": [
        "x = 'hello'\n",
        "print (x)"
      ]
    },
    {
      "cell_type": "code",
      "source": [
        "print (type (1))\n",
        "print (type(10.5))\n",
        "print (type (1516151512645.22))\n",
        "print(type (True))\n",
        "print (type (x))\n",
        "mylist = ([1,2,3,45,65])\n",
        "mytuple = ((1,2,5,5,))\n",
        "myset = ({1,2,3,5,2,5,5})\n",
        "mydictionary =({1:'hassan',2:'ddgd',3:'sayed'}) # dictionary is a list have a key and value\n",
        "print (type (mylist))\n",
        "print (type (mytuple))\n",
        "print (type (myset))\n",
        "print (type (mydictionary))\n",
        "name =('hassan')\n",
        "fname = ('sayed')\n",
        "fullname = ('sayeed' +( '  ' )+'hassan')\n",
        "print (name)\n",
        "print (fname )\n",
        "print (name , fname )\n",
        "print (fullname)\n"
      ],
      "metadata": {
        "colab": {
          "base_uri": "https://localhost:8080/"
        },
        "id": "EOgwse_6eV6h",
        "outputId": "9d96bfa1-33af-444a-85b9-4a2c5ccf7925"
      },
      "execution_count": 3,
      "outputs": [
        {
          "output_type": "stream",
          "name": "stdout",
          "text": [
            "<class 'int'>\n",
            "<class 'float'>\n",
            "<class 'float'>\n",
            "<class 'bool'>\n",
            "<class 'str'>\n",
            "<class 'list'>\n",
            "<class 'tuple'>\n",
            "<class 'set'>\n",
            "<class 'dict'>\n",
            "hassan\n",
            "sayed\n",
            "hassan sayed\n",
            "sayeed  hassan\n"
          ]
        }
      ]
    }
  ]
}